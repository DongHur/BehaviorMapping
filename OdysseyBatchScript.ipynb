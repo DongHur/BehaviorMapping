{
 "cells": [
  {
   "cell_type": "code",
   "execution_count": 1,
   "metadata": {},
   "outputs": [],
   "source": [
    "#! /usr/bin/python\n",
    "import os\n",
    "from subprocess import call\n",
    "import time"
   ]
  },
  {
   "cell_type": "code",
   "execution_count": null,
   "metadata": {},
   "outputs": [],
   "source": []
  },
  {
   "cell_type": "code",
   "execution_count": null,
   "metadata": {},
   "outputs": [],
   "source": [
    "searches_run = 0\n",
    "batchfile = \"\"\n",
    "batchfileName = \"\"\n",
    "for filename in os.listdir(\"/n/eddyfs01/home/npcarter/sequence_dbs/Pfam_hmms\"):\n",
    "    if searches_run< 6:\n",
    "        if searches_run % 3 == 0: #start a new file\n",
    "            batchfileName = \"/tmp/\" + filename\n",
    "            batchfile = open(batchfileName, \"w\")\n",
    "            batchfile.write(\"#!/bin/bash \\n\")\n",
    "            batchfile.write(\"#SBATCH -n 1 \\n\")\n",
    "            batchfile.write(\"#SBATCH -N 1 \\n\")\n",
    "            batchfile.write(\"#SBATCH -t 1  \\n\")\n",
    "            batchfile.write(\"#SBATCH -p serial_requeue \\n\")\n",
    "\t    batchfile.write(\"#SBATCH --mem=1000 \\n\")\n",
    "            batchfile.write(\"#SBATCH -o /n/eddyfs01/home/npcarter/hostname_%j.o\\\n",
    "ut \\n\")\n",
    "            batchfile.write(\"#SBATCH -e /n/eddyfs01/home/npcarter/hostname_%j.e\\\n",
    "rr \\n\")\n",
    "\n",
    "        #write the command for this input file to the batchfile\n",
    "        outTable = \"/n/eddyfs01/home/npcarter/hmmer3.2_results/\" + filename +\".\\\n",
    "tabln\"\n",
    "        outRes = \"/n/eddyfs01/home/npcarter/hmmer3.2_results/\" + filename +\".re\\\n",
    "s\"\n",
    "        infile = \"/n/eddyfs01/home/npcarter/sequence_dbs/Pfam_hmms/\"+filename\n",
    "\n",
    "        commandstring = \"matlab -o \"+ outRes +\" --tblout \" + outTable + \" \"+ in\\\n",
    "file +   \" /n/eddyfs01/home/npcarter/sequence_dbs/uniprot_trembl_4_27_2018.fast\\\n",
    "a\"\n",
    "\n",
    "        batchfile.write(commandstring)\n",
    "        batchfile.write(\"\\n\")\n",
    "        if searches_run %3 == 2:  #submit the batch job containing the searches\n",
    "            batchfile.close()\n",
    "   #         sbatchstring =[\"sbatch\", batchfileName]\n",
    "   #         call(sbatchstring)\n",
    "   #         os.remove(batchfileName)\n",
    "    searches_run += 1\n",
    "\n",
    "if searches_run %3 != 0:  #submit the batch job containing the last searches\n",
    "    sbatchstring =[\"sbatch\", batchfileName]\n",
    "  #  call(sbatchstring)\n",
    "  #  os.remove(batchfileName)"
   ]
  },
  {
   "cell_type": "code",
   "execution_count": null,
   "metadata": {},
   "outputs": [],
   "source": []
  }
 ],
 "metadata": {
  "kernelspec": {
   "display_name": "Python 3",
   "language": "python",
   "name": "python3"
  },
  "language_info": {
   "codemirror_mode": {
    "name": "ipython",
    "version": 3
   },
   "file_extension": ".py",
   "mimetype": "text/x-python",
   "name": "python",
   "nbconvert_exporter": "python",
   "pygments_lexer": "ipython3",
   "version": "3.7.3"
  }
 },
 "nbformat": 4,
 "nbformat_minor": 2
}
