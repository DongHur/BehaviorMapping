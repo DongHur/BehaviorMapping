{
 "cells": [
  {
   "cell_type": "code",
   "execution_count": 1,
   "metadata": {},
   "outputs": [],
   "source": [
    "import numpy as np\n",
    "import scipy.io as sio\n",
    "import glob \n",
    "from tqdm import tqdm_notebook\n",
    "import os\n",
    "import matplotlib\n",
    "import matplotlib.pyplot as plt\n",
    "\n",
    "from tools.morlet.CB_Morlet import Morlet"
   ]
  },
  {
   "cell_type": "code",
   "execution_count": 2,
   "metadata": {},
   "outputs": [
    {
     "data": {
      "application/vnd.jupyter.widget-view+json": {
       "model_id": "aab5d76b554c428786772b33921a9521",
       "version_major": 2,
       "version_minor": 0
      },
      "text/plain": [
       "HBox(children=(IntProgress(value=0, max=5), HTML(value='')))"
      ]
     },
     "metadata": {},
     "output_type": "display_data"
    },
    {
     "name": "stdout",
     "output_type": "stream",
     "text": [
      "FINISHED Importing Data\n",
      "FINISHED Rotating & Translating Data\n",
      "FINISHED Importing Data\n",
      "FINISHED Rotating & Translating Data\n",
      "FINISHED Importing Data\n",
      "FINISHED Rotating & Translating Data\n",
      "FINISHED Importing Data\n",
      "FINISHED Rotating & Translating Data\n",
      "FINISHED Importing Data\n",
      "FINISHED Rotating & Translating Data\n",
      "\n"
     ]
    }
   ],
   "source": [
    "# ALGORITHM TO CLASSIFY BEHAVIOR\n",
    "CB = Morlet()\n",
    "data_pathnames = glob.glob('data/h5data/*.h5')\n",
    "\n",
    "bp_datapath = \"data/bpdata_npy\"\n",
    "\n",
    "for data_path in tqdm_notebook(data_pathnames):\n",
    "    CB.import_data(data_path)\n",
    "    print(\"FINISHED Importing Data\")\n",
    "    CB.rot_trans_data(bp_datapath)\n",
    "    print(\"FINISHED Rotating & Translating Data\")"
   ]
  },
  {
   "cell_type": "code",
   "execution_count": 3,
   "metadata": {},
   "outputs": [
    {
     "data": {
      "application/vnd.jupyter.widget-view+json": {
       "model_id": "ab83d6beb4324b6483af98e31598c451",
       "version_major": 2,
       "version_minor": 0
      },
      "text/plain": [
       "HBox(children=(IntProgress(value=1, bar_style='info', max=1), HTML(value='')))"
      ]
     },
     "metadata": {},
     "output_type": "display_data"
    },
    {
     "name": "stdout",
     "output_type": "stream",
     "text": [
      "(5913, 58)\n",
      "(2895, 58)\n",
      "(5901, 58)\n",
      "(5901, 58)\n",
      "(5270, 58)\n",
      "\n"
     ]
    }
   ],
   "source": [
    "# INPUT DATA\n",
    "data_pathnames = glob.glob('data/bpdata_npy/*.npy')\n",
    "mat_datapath = \"MotionMapper/data_mat/bpdata_bank\"\n",
    "# RUN SPECTROGRAM ALGORITHM\n",
    "num_files = len(data_pathnames)\n",
    "for idx, data_path in tqdm_notebook(enumerate(data_pathnames)):\n",
    "    filename = os.path.splitext(os.path.basename(data_path))[0]\n",
    "    bp_test = np.load(data_path)[:,0:2,:]\n",
    "    bp_mod = np.delete(bp_test, 2, 0) # take out center bp of all 0 data\n",
    "    # RESHAPE DATA TO [N_frame x features]\n",
    "    bp_test_mod = bp_mod.reshape(58,-1).T \n",
    "    bp_test_mod = bp_test_mod - np.mean(bp_test_mod, axis=0)\n",
    "    # SAVE DATA AS .mat\n",
    "    sio.savemat(mat_datapath+\"/\"+filename+\".mat\",{\"projections\":bp_test_mod})\n",
    "    print(bp_test_mod.shape)"
   ]
  },
  {
   "cell_type": "markdown",
   "metadata": {},
   "source": [
    "<h1><center>TEST</center></h1>"
   ]
  },
  {
   "cell_type": "code",
   "execution_count": 12,
   "metadata": {},
   "outputs": [
    {
     "data": {
      "image/png": "[encoded data removed]",
      "text/plain": [
       "<Figure size 432x288 with 1 Axes>"
      ]
     },
     "metadata": {
      "needs_background": "light"
     },
     "output_type": "display_data"
    },
    {
     "name": "stdout",
     "output_type": "stream",
     "text": [
      "X mean: -0.0\n"
     ]
    },
    {
     "data": {
      "image/png": "[encoded data removed]",
      "text/plain": [
       "<Figure size 432x288 with 1 Axes>"
      ]
     },
     "metadata": {
      "needs_background": "light"
     },
     "output_type": "display_data"
    },
    {
     "name": "stdout",
     "output_type": "stream",
     "text": [
      "Y mean: 0.0\n"
     ]
    }
   ],
   "source": [
    "# X Position\n",
    "bp_x = 4\n",
    "plt.plot(bp_test_mod[:,bp_x])\n",
    "plt.xlabel(\"frames\")\n",
    "plt.ylabel(\"position\")\n",
    "plt.title(\"X Position\")\n",
    "plt.show()\n",
    "print(\"X mean: \" + str(round(np.mean(bp_test_mod[:,bp_x]), 4)))\n",
    "# Y Position\n",
    "bp_y = 5\n",
    "plt.plot(bp_test_mod[:,bp_y])\n",
    "plt.xlabel(\"frames\")\n",
    "plt.ylabel(\"position\")\n",
    "plt.title(\"Y Position\")\n",
    "plt.show()\n",
    "print(\"Y mean: \" + str(round(np.mean(bp_test_mod[:,bp_y]), 4)))"
   ]
  },
  {
   "cell_type": "code",
   "execution_count": null,
   "metadata": {},
   "outputs": [],
   "source": []
  }
 ],
 "metadata": {
  "kernelspec": {
   "display_name": "Python 3",
   "language": "python",
   "name": "python3"
  },
  "language_info": {
   "codemirror_mode": {
    "name": "ipython",
    "version": 3
   },
   "file_extension": ".py",
   "mimetype": "text/x-python",
   "name": "python",
   "nbconvert_exporter": "python",
   "pygments_lexer": "ipython3",
   "version": "3.7.3"
  }
 },
 "nbformat": 4,
 "nbformat_minor": 2
}
